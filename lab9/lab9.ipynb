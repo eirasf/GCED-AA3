{
  "cells": [
    {
      "cell_type": "markdown",
      "metadata": {
        "id": "57knM8jrYZ2t"
      },
      "source": [
        "[![Open In Colab](https://colab.research.google.com/assets/colab-badge.svg)](https://colab.research.google.com/github/eirasf/GCED-AA3/blob/main/lab9/lab9.ipynb)\n",
        "\n",
        "# Práctica 9: One Class Network\n",
        "\n",
        "## Pre-requisitos\n",
        "\n",
        "### Instalar paquetes\n",
        "\n",
        "Si la práctica requiere algún paquete de Python, habrá que incluir una celda en la que se instalen. Si usamos un paquete que se ha utilizado en prácticas anteriores, podríamos dar por supuesto que está instalado pero no cuesta nada satisfacer todas las dependencias en la propia práctica para reducir las dependencias entre ellas.\n",
        "\n",
        "### NOTA: En <font color='red'>Google Colab</font> hay que instalar los paquetes EN CADA EJECUCIÓN"
      ]
    },
    {
      "cell_type": "code",
      "execution_count": null,
      "metadata": {
        "id": "LkaimNJfYZ2w"
      },
      "outputs": [],
      "source": [
        "# Ejemplo de instalación de tensorflow 2.0\n",
        "#%tensorflow_version 2.x\n",
        "# !pip3 install tensorflow  # NECESARIO SOLO SI SE EJECUTA EN LOCAL\n",
        "import tensorflow as tf\n",
        "\n",
        "# Hacemos los imports que sean necesarios\n",
        "import numpy as np"
      ]
    },
    {
      "cell_type": "markdown",
      "metadata": {
        "id": "SOch-CnwQttl"
      },
      "source": [
        "# One Class sobre datos artificiales\n",
        "\n",
        "Lo primero que tenemos que hacer es definir los datos a utilizar."
      ]
    },
    {
      "cell_type": "code",
      "execution_count": null,
      "metadata": {
        "id": "1gXdWDBIEKel"
      },
      "outputs": [],
      "source": [
        "random_state = 42\n",
        "rng = np.random.RandomState(random_state)\n",
        "#  datos de entrenamiento\n",
        "X = 0.3 * rng.randn(5000, 2)\n",
        "x_train = np.r_[X + 2, X - 2]\n",
        "#  datos de test en la misma distribución que los datos de entrenamiento\n",
        "X = 0.3 * rng.randn(200, 2)\n",
        "x_test = np.r_[X + 2, X - 2]\n",
        "#  outliers\n",
        "x_outliers = rng.uniform(low=-4, high=4, size=(200, 2))"
      ]
    },
    {
      "cell_type": "markdown",
      "metadata": {
        "id": "wkaCDOGapMyl"
      },
      "source": [
        "## Crea tu propia red para la detección de anomalías\n",
        "\n",
        "Vamos a crear nuestra propia red para la detección de anomalías. Para ello, utilizaremos una red que transforme cada elemento de entrada en un valor numérico. Optimizaremos sus pesos para que:\n",
        "* Sean pequeños (regularización L2)\n",
        "* La salida sea mayor que un un valor `r` que iremos modificando en cada epoch.\n",
        "En cada epoch, calcularemos `r` de manera que solo una pequeña fracción de los datos $\\nu$ obtenga una salida $\\tilde{y}$ menor que `r`. De esta manera, tras varias epoch, las entradas anómalas serán las que no superen dicho valor ($\\tilde{y} <= r$).\n",
        "\n",
        "La idea es que estos dos objetivos de optimización contrapuestos (L2 se maximiza llevando los pesos - y, por tanto, la salida - a cero; la otra pérdida aumenta cuando la salida no llega a `r`) provoquen que los pesos que hacen que la salida llegue a `r` se asignen a los patrones más frecuentes. Cuando se introduzca un dato anómalo, este no alcanzará `r`.\n",
        "\n",
        "Definiremos una red cualquiera, que nos **transforme los datos de entrada en una salida de un único elemento**. Esta red va a cumplir una serie de características:\n",
        "\n",
        "* La capa anterior a la salida serán las llamadas **deep features**.\n",
        "* Todas las capas (incluyendo la última) deben incluir regularización.\n",
        "* La función de coste es $$L(y, \\tilde{y}) = \\dfrac{1}{2} \\| w^2 \\| + \\dfrac{1}{\\nu} \\dfrac{1}{N} \\sum_{i=1}^N \\max(0, r - \\tilde{y}) $$ donde $\\tilde{y}$ es la salida de la red, $\\nu$ es un hiperparámetro entre 0 y 1, y $r$ es un parámetro no entrenable, pero que va a ser modificado en cada epoch.\n",
        "* Al final del cada epoch, r va a ser modificado al valor del $\\nu$-cuantil de los datos de entrada (este valor será modificado gracias al Callback proporcionado a continuación).\n",
        "* Para la predicción, se considerará un dato típico si $\\tilde{y} > r$. En caso contrario, será un dato atípico."
      ]
    },
    {
      "cell_type": "code",
      "execution_count": null,
      "metadata": {
        "id": "_JM1GSLe8nXc"
      },
      "outputs": [],
      "source": [
        "class ChangeRCallback(tf.keras.callbacks.Callback):\n",
        "   def __init__(self, train_data, delta=.025, steps=3):\n",
        "       super().__init__()\n",
        "       self.train_data = train_data\n",
        "       self.delta = delta\n",
        "       self.steps = steps\n",
        "       self.cont = 0\n",
        "\n",
        "   def on_epoch_end(self, epoch, logs=None):\n",
        "       sorted_values = np.sort(self.model.predict(self.train_data).flatten())\n",
        "       new_value = sorted_values[int(len(sorted_values) * (1. - self.model.nu))]\n",
        "       old_value = self.model.r.numpy()\n",
        "       print('Cambiando r a', new_value, ', max:', sorted_values.max(), ', min:', sorted_values.min())\n",
        "       self.model.r.assign(new_value)\n",
        "       if np.abs(old_value - new_value) < self.delta:\n",
        "            self.cont += 1\n",
        "            if self.cont >= self.steps:\n",
        "                print('Convergencia obtenida. Finalizando el entrenamiento.')\n",
        "                self.model.stop_training = True\n",
        "       else:\n",
        "            self.cont = 0"
      ]
    },
    {
      "cell_type": "markdown",
      "metadata": {
        "id": "nroMok1bG9p0"
      },
      "source": [
        "Tu trabajo es crear el modelo y entrenarlo."
      ]
    },
    {
      "cell_type": "code",
      "execution_count": null,
      "metadata": {
        "id": "5xjcLa21EKen"
      },
      "outputs": [],
      "source": [
        "# TODO: implementa la red de detección de anomalías\n",
        "\n",
        "class DetectorAnomalias:\n",
        "\n",
        "    def __init__(self, input_shape, nu=.5):\n",
        "        # TODO : define el modelo\n",
        "        self.model = None\n",
        "\n",
        "        self.model.r = tf.Variable(1.0, trainable=False, name='r', dtype=tf.float32)\n",
        "        self.model.nu = tf.Variable(nu, trainable=False, name='nu', dtype=tf.float32)\n",
        "        \n",
        "        # TODO: crea el optimizador\n",
        "        # TODO: compila el modelo\n",
        "      \n",
        "    def loss_function(self, y_true, y_pred):\n",
        "        # TODO: crea la función de pérdida\n",
        "        None\n",
        "    \n",
        "    def fit(self, X, y=None, sample_weight=None):\n",
        "        # TODO: entrena el modelo. Escoge el tamaño de batch y el número de epochs que quieras. No te olvides del callback.\n",
        "        dummy_y = np.zeros((len(X), 1)) # Necesario pasar como salida para que keras no de un error\n",
        "        None\n",
        "        \n",
        "    def predict(self, X):\n",
        "        # TODO: Devuelve la predicción del modelo\n",
        "        None\n",
        "        \n",
        "    def __del__(self):\n",
        "        # TODO: borra el modelo\n",
        "        tf.keras.backend.clear_session() # Necesario para liberar la memoria en GPU"
      ]
    },
    {
      "cell_type": "markdown",
      "metadata": {
        "id": "qjFXe6EiYfRg"
      },
      "source": [
        "### Entrena el modelo.\n",
        "\n",
        "Usa lo hecho anteriormente para entrenar tu modelo."
      ]
    },
    {
      "cell_type": "code",
      "execution_count": null,
      "metadata": {
        "id": "lNC1s2Wmqx4x"
      },
      "outputs": [],
      "source": [
        "# TODO: Define el modelo\n"
      ]
    },
    {
      "cell_type": "code",
      "execution_count": null,
      "metadata": {
        "id": "hN2zd3DEYnKI"
      },
      "outputs": [],
      "source": [
        "# TODO: Entrena tu modelo\n"
      ]
    },
    {
      "cell_type": "markdown",
      "metadata": {
        "id": "MbUKp14pPsrp"
      },
      "source": [
        "## Evaluando el modelo\n",
        "\n",
        "Una vez entrenado, para evaluar el modelo sólo hay que tener en cuenta lo siguiente:\n",
        "\n",
        "  1. Si la salida es mayor que r, es un dato típico.\n",
        "  1. Si la salida es menor que r, es un dato atípico.\n",
        "\n",
        "### TRABAJO: Evalúa el modelo con los datos del conjunto de test, y con los outliers. Visualiza los datos típicos y atípicos con una gráfica."
      ]
    },
    {
      "cell_type": "code",
      "execution_count": null,
      "metadata": {
        "id": "7eF_9LMeZ2J2"
      },
      "outputs": [],
      "source": [
        "# TODO: Evalúa el modelo con los datos del conjunto de test. Indica el porcentaje de datos etiquetados como típicos, y visualiza los datos\n"
      ]
    },
    {
      "cell_type": "code",
      "execution_count": null,
      "metadata": {
        "id": "YbqC0inexwHp"
      },
      "outputs": [],
      "source": [
        "# TODO: Evalúa el modelo con los datos del conjunto de outliers. Indica el porcentaje de datos etiquetados como atípicos, y visualiza los datos en conjunto con los de test\n"
      ]
    },
    {
      "cell_type": "markdown",
      "metadata": {
        "id": "oDWehV02UIpl"
      },
      "source": [
        "¿Qué resultados has obtenido? Si el número de outliers detectado es bajo (inferior al 30%), puedes estar cometiendo algún error, entre ellos:\n",
        "\n",
        "* Sobreentrenar el modelo. Prueba a usar un delta distinto en el callback.\n",
        "* Usar un valor de $\\nu$ demasiado alto.\n",
        "\n",
        "Prueba distintas configuraciones para ver su efecto."
      ]
    },
    {
      "cell_type": "markdown",
      "metadata": {
        "id": "qnqgYFqiSUSt"
      },
      "source": [
        "# ¡ENHORABUENA! Has completado la práctica de oneclass.\n"
      ]
    }
  ],
  "metadata": {
    "colab": {
      "collapsed_sections": [],
      "name": "9_oneclass.ipynb",
      "provenance": []
    },
    "kernelspec": {
      "display_name": "Python 3",
      "language": "python",
      "name": "python3"
    },
    "language_info": {
      "codemirror_mode": {
        "name": "ipython",
        "version": 3
      },
      "file_extension": ".py",
      "mimetype": "text/x-python",
      "name": "python",
      "nbconvert_exporter": "python",
      "pygments_lexer": "ipython3",
      "version": "3.7.7"
    }
  },
  "nbformat": 4,
  "nbformat_minor": 0
}
